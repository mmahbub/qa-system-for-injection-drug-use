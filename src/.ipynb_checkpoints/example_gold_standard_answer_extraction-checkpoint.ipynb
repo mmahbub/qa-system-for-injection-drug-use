{
 "cells": [
  {
   "cell_type": "markdown",
   "id": "a94a28de-6cc9-4070-9d23-113808e106e4",
   "metadata": {
    "jp-MarkdownHeadingCollapsed": true
   },
   "source": [
    "### example of automated gold-standard answer extraction"
   ]
  },
  {
   "cell_type": "code",
   "execution_count": 1,
   "id": "86dad31e-60cc-482f-a43f-2f1a6d8e9afa",
   "metadata": {},
   "outputs": [],
   "source": [
    "keywords_list = ['ivdu', ' idu', \"ivda\",\n",
    "                 'iv drug use', 'intravenous drug use',\n",
    "                 'iv drug abuse','intravenous drug abuse',\n",
    "                 'injection drug use', 'injection drug abuse',\n",
    "                 'inject drug', 'injected drug',\n",
    "                 'drugs by injection', 'drug by injection',\n",
    "                 'iv drug injector', 'intravenous drug injector',\n",
    "                 'iv drug injectIon', 'intravenous drug injection',\n",
    "                 'illicit iv drug', 'illicit intravenous drug',\n",
    "                 'injection illicit drug use', 'pwid',\n",
    "                 'iv drug paraphernalia', 'intravenous drug paraphernalia',\n",
    "                 'suspect injecting', 'pwid', 'skin popping', 'muscle popping',\n",
    "                 'iv heroin', 'iv meth', 'iv cocaine',\n",
    "                 'iv methamphetamine', 'iv crack',\n",
    "                 'inject heroin', 'inject meth', 'inject cocaine',\n",
    "                 'inject methamphetamine', 'inject crack',\n",
    "                 'injects heroin', 'injects meth', 'injects cocaine',\n",
    "                 'injects methamphetamine', 'injects crack',\n",
    "                 'injected heroin', 'injected meth', 'injected cocaine',\n",
    "                 'injected methamphetamine', 'injected crack',\n",
    "                 'intravenous heroin', 'intravenous meth', 'intravenous cocaine',\n",
    "                 'intravenous methamphetamine', 'intravenous crack', 'speedball',\n",
    "                 'track marks', 'shared needle', 'sharing needle', 'dirty needle',\n",
    "                 'ssp ', 'ris4e', 'safe injection',\n",
    "                 'community syringe services', 'clean syringe prog', 'safe syringe prog',\n",
    "                 'counseled on safe injection', 'counseled on safer injection',\n",
    "                 'syringe service', 'safer injection', \n",
    "                 ]"
   ]
  },
  {
   "cell_type": "code",
   "execution_count": 2,
   "id": "1c3a9806-73ef-46ca-8397-b099916d3aab",
   "metadata": {},
   "outputs": [],
   "source": [
    "negation_patterns = ['denying', 'denies', 'denied', 'no', 'never']\n",
    "temporal_patterns = ['past medical history','past medical hx','past medical h/o',\n",
    "                      'remote history','remote hx','remote h/o',\n",
    "                      'distant history', 'distant hx','distant h/o',\n",
    "                      'prior history','prior hx','prior h/o',\n",
    "                      'previous history','previous hx','previous h/o',\n",
    "                      'former history','former hx','former h/o',\n",
    "                      'active history', 'active hx','active h/o',\n",
    "                      'current history','current hx','current h/o',\n",
    "                      'recent history','recent hx','recent h/o',\n",
    "                      'last history','last hx', 'last h/o',\n",
    "                      'long history', 'long hx', 'long h/o',\n",
    "                      'daily', 'occasional', 'regularly',\n",
    "                      'often', 'sometimes', 'frequently', \n",
    "                      'past', 'remote', 'distant', 'prior',\n",
    "                      'previous', 'former', 'active', 'current',\n",
    "                      'recent', 'last', 'long', 'intermittent',\n",
    "                      'hpi', 'history', 'hx', 'h/o', 'pmh']\n",
    "add_temp_patterns  = [\"year ago\", \"years ago\", \"yr ago\", \"yrs ago\",\n",
    "                      \"month ago\", \"months ago\", \"mnth ago\", \"mnths ago\", \"mos ago\",\n",
    "                      \"day ago\", \"days ago\", \"d ago\",\n",
    "                      'wk ago','wks ago']\n",
    "trackmark_patterns = ['arm', 'arms', 'abnormal', 'multiple', 'many',\n",
    "                     'several', 'healing', 'healed', 'old', 'diffuse',\n",
    "                     'localized', 'visible', 'red', 'iv', 'fresh', 'dark',\n",
    "                     'needle', 'notable']\n",
    "sud_oud_patterns   = ['substance disorder', 'polysubstance use disorder', \n",
    "                      'substance abuse disorder', 'polysubstance abuse disorder',\n",
    "                      'sud', 'psud', 'oud', 'polysubstance',\n",
    "                      'opioid use disorder', 'opioid', 'opiate']"
   ]
  },
  {
   "cell_type": "code",
   "execution_count": 58,
   "id": "81e58c9e-d773-4f9b-99df-9719a1489455",
   "metadata": {},
   "outputs": [],
   "source": [
    "# note = <CLINICAL NOTE>\n",
    "# note_id = <NOTE ID TO KEEP TRACK>\n",
    "\n",
    "note = \"<more info> pt has a h/o ivdu. pt injects iv heroin daily. has a remote history of iv cocaine, last used 10 years ago. <more info>\"\n",
    "note_id = \"xxxxx\"\n",
    "\n",
    "import re\n",
    "\n",
    "def get_sentences_with_kw(note, note_id, kw_list):\n",
    "    \n",
    "    sent_kw = []\n",
    "\n",
    "    sents = note.split('.')\n",
    "\n",
    "    for i, sent in enumerate(sents):\n",
    "        if any(re.search(kw, sent) for kw in kw_list):\n",
    "            sent_kw.append((note_id, sent))\n",
    "            \n",
    "    if sent_kw:\n",
    "        return sent_kw\n",
    "    "
   ]
  },
  {
   "cell_type": "code",
   "execution_count": 59,
   "id": "9b195dcf-d89e-4804-8583-43095276b624",
   "metadata": {},
   "outputs": [
    {
     "data": {
      "text/plain": [
       "{'drug names': [('xxxxx', ' pt injects iv heroin daily'),\n",
       "  ('xxxxx', ' has a remote history of iv cocaine, last used 10 years ago')]}"
      ]
     },
     "execution_count": 59,
     "metadata": {},
     "output_type": "execute_result"
    }
   ],
   "source": [
    "kw = \"drug names\"\n",
    "kw_list = ['iv heroin', 'iv meth', 'iv cocaine',\n",
    "           'iv methamphetamine', 'iv crack',\n",
    "           'inject heroin', 'inject meth', 'inject cocaine',\n",
    "           'inject methamphetamine', 'inject crack',\n",
    "           'injects heroin', 'injects meth', 'injects cocaine',\n",
    "           'injects methamphetamine', 'injects crack',\n",
    "           'injected heroin', 'injected meth', 'injected cocaine',\n",
    "           'injected methamphetamine', 'injected crack',\n",
    "           'intravenous heroin', 'intravenous meth', 'intravenous cocaine',\n",
    "           'intravenous methamphetamine', 'intravenous crack', 'speedball',\n",
    "          ]\n",
    "keyword_ans_dict = {kw: get_sentences_with_kw(note, note_id, kw_list)}\n",
    "keyword_ans_dict"
   ]
  },
  {
   "cell_type": "markdown",
   "id": "d7c31034-ecc1-40e2-97e1-82c7b8b0327f",
   "metadata": {
    "jp-MarkdownHeadingCollapsed": true
   },
   "source": [
    "### example of parsing rules to clean the answers"
   ]
  },
  {
   "cell_type": "code",
   "execution_count": 9,
   "id": "50c2e7d4-dd56-434e-a063-26e8e150bfa9",
   "metadata": {},
   "outputs": [],
   "source": [
    "dummy_ans_ls = [\"\"\"65y/o m w cardiac procedures, or recent surgical procedures, \\\n",
    "admits to drinking alcohol daily for the past 10 years, denies any history of ivdu\"\"\",\n",
    "               \"\"\"pt smokes cannabis, never ivdu\"\"\",\n",
    "               \"\"\"last ivdu was 10 days ago, snorts cocaine occasionally\"\"\"\n",
    "               ]"
   ]
  },
  {
   "cell_type": "code",
   "execution_count": 19,
   "id": "38989d15-f492-437f-a227-f2ae044b8efb",
   "metadata": {},
   "outputs": [
    {
     "data": {
      "text/plain": [
       "{'65y/o m w cardiac procedures, or recent surgical procedures, admits to drinking alcohol daily for the past 10 years, denies any history of ivdu': 'denies any history of ivdu',\n",
       " 'pt smokes cannabis, never ivdu': 'never ivdu'}"
      ]
     },
     "execution_count": 19,
     "metadata": {},
     "output_type": "execute_result"
    }
   ],
   "source": [
    "ans_dict = {}\n",
    "for a in dummy_ans_ls:\n",
    "    if a not in ans_dict:\n",
    "        for findw in negation_patterns:\n",
    "            stind = a.find(f\"{findw}\")\n",
    "            if stind != -1:\n",
    "                for k in keywords_list:\n",
    "                    enind = a[stind:].find(k.lower())\n",
    "                    if enind != -1 and k.lower() in a[stind:stind+enind+len(k)].lower():\n",
    "                        # finalAns = a[stind:stind+enind+len(k)]\n",
    "                        finalAns = a[stind:]\n",
    "                        if finalAns:\n",
    "                            ans_dict[a] = finalAns\n",
    "#                         print(a[stind:stind+enind+len(k)])\n",
    "ans_dict"
   ]
  },
  {
   "cell_type": "code",
   "execution_count": 20,
   "id": "2071ca62-385f-43e0-94e5-2c22bdff618f",
   "metadata": {},
   "outputs": [
    {
     "data": {
      "text/plain": [
       "{'65y/o m w cardiac procedures, or recent surgical procedures, admits to drinking alcohol daily for the past 10 years, denies any history of ivdu': 'denies any history of ivdu',\n",
       " 'pt smokes cannabis, never ivdu': 'never ivdu',\n",
       " 'last ivdu was 10 days ago, snorts cocaine occasionally': 'last ivdu was 10 days ago'}"
      ]
     },
     "execution_count": 20,
     "metadata": {},
     "output_type": "execute_result"
    }
   ],
   "source": [
    "for a in dummy_ans_ls:\n",
    "    if a not in ans_dict:\n",
    "        for findw in add_temp_patterns:\n",
    "            enind  = a.find(findw)# + len(phrase)\n",
    "            if enind != -1:\n",
    "                for k in keywords_list:\n",
    "                    if k.lower() in a[:enind + len(findw)].lower():\n",
    "                        finalAns = a[:enind + len(findw)]\n",
    "                        if finalAns:\n",
    "                            ans_dict[a] = finalAns\n",
    "ans_dict"
   ]
  },
  {
   "cell_type": "code",
   "execution_count": null,
   "id": "7f67a47c-7db6-4e1b-b2c1-a96047458107",
   "metadata": {},
   "outputs": [],
   "source": []
  }
 ],
 "metadata": {
  "kernelspec": {
   "display_name": "Python 3 (ipykernel)",
   "language": "python",
   "name": "python3"
  },
  "language_info": {
   "codemirror_mode": {
    "name": "ipython",
    "version": 3
   },
   "file_extension": ".py",
   "mimetype": "text/x-python",
   "name": "python",
   "nbconvert_exporter": "python",
   "pygments_lexer": "ipython3",
   "version": "3.10.12"
  }
 },
 "nbformat": 4,
 "nbformat_minor": 5
}
