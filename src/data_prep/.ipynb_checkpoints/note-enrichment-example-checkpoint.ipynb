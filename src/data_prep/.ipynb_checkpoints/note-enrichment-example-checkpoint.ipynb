{
 "cells": [
  {
   "cell_type": "code",
   "execution_count": 1,
   "id": "0f470a48-f19f-4886-ae81-58dfbd9e0bff",
   "metadata": {},
   "outputs": [],
   "source": [
    "import sys\n",
    "sys.path.append('../')"
   ]
  },
  {
   "cell_type": "code",
   "execution_count": 25,
   "id": "58f193a8-fbce-4660-80d7-93906da1531c",
   "metadata": {},
   "outputs": [],
   "source": [
    "import json\n",
    "import pandas as pd\n",
    "import numpy as np\n",
    "from tqdm import tqdm\n",
    "tqdm.pandas()\n",
    "pd.set_option('max_colwidth', 100)\n",
    "from itertools import chain\n",
    "\n",
    "from clean_notes import *"
   ]
  },
  {
   "cell_type": "code",
   "execution_count": 19,
   "id": "f926086d-2e9a-4bba-8562-f4718b189957",
   "metadata": {
    "scrolled": true
   },
   "outputs": [
    {
     "name": "stdout",
     "output_type": "stream",
     "text": [
      "Raw Note  : \n",
      "<more info> pt has a \n",
      "h/o ivdu\n",
      ". pt injects \n",
      "iv heroin daily........... has a remote\n",
      " history of iv cocaine,\n",
      "\n",
      "last used 10 years ago. <more info>\n",
      "\n",
      "\n",
      "----------------------------------------------------------------------------------------------------\n",
      "\n",
      "\n",
      "Clean Note: \n",
      "<more info> pt has a h/o ivdu. pt injects iv heroin daily. has a remote history of iv cocaine, last used 10 years ago. <more info>\n",
      "\n",
      "\n"
     ]
    }
   ],
   "source": [
    "# clean_note example\n",
    "# note = <CLINICAL NOTE>\n",
    "dummy_note = \"\"\"<more info> pt has a \\nh/o ivdu\\n. pt injects \\niv heroin daily........... has a remote\\n history of iv cocaine,\\\n",
    "\\n\\nlast used 10 years ago. <more info>\"\"\"\n",
    "cleaned_note = clean_text(dummy_note)\n",
    "\n",
    "print(f\"Raw Note  : \\n{dummy_note}\")\n",
    "print(\"\\n\")\n",
    "print(\"-\"*100)\n",
    "print(\"\\n\")\n",
    "print(f\"Clean Note: \\n{cleaned_note}\")\n",
    "print(\"\\n\")\n"
   ]
  },
  {
   "cell_type": "code",
   "execution_count": 28,
   "id": "f7df813f-5602-420d-b442-1c7aa9b9d612",
   "metadata": {},
   "outputs": [],
   "source": [
    "# load the IDU keywords\n",
    "keywords_list = json.load(open(\"IDUkeywordsList.json\"))\n",
    "keywords_list = list(chain.from_iterable(keywords_list.values()))"
   ]
  },
  {
   "cell_type": "code",
   "execution_count": 34,
   "id": "10875c38-c052-4546-aee6-387ba3e2e681",
   "metadata": {},
   "outputs": [],
   "source": [
    "# filter notes based on keywords\n",
    "def filter_notes(note):\n",
    "    if any(k.lower() in note for k in keywords_list):\n",
    "        return True\n",
    "    return False"
   ]
  },
  {
   "cell_type": "code",
   "execution_count": 46,
   "id": "70309c14-0702-48bf-a4e3-b0690672add8",
   "metadata": {},
   "outputs": [
    {
     "name": "stderr",
     "output_type": "stream",
     "text": [
      "100%|████████████████████████████████████████████████████████████████████████████████████████████████████████████████████████████████████████████████████████████████████████████████████████████████████| 3/3 [00:00<00:00, 20832.64it/s]\n"
     ]
    }
   ],
   "source": [
    "# df = <A DATAFRAME CONTAINING ALL CLINICAL NOTES AND IDENTIFIERS>\n",
    "\n",
    "# filter notes on IDU keywords\n",
    "df['IDU_IN_NOTE'] = df['NOTE'].progress_apply(filter_notes)\n",
    "df = df[df['IDU_IN_NOTE']==True]\n",
    "\n",
    "# clean all notes\n",
    "df['CONTEXT'] = df['NOTE'].progress_apply(clean_text)"
   ]
  },
  {
   "cell_type": "code",
   "execution_count": null,
   "id": "df955847-deca-4772-835b-38c30e2015f5",
   "metadata": {},
   "outputs": [],
   "source": []
  }
 ],
 "metadata": {
  "kernelspec": {
   "display_name": "Python 3 (ipykernel)",
   "language": "python",
   "name": "python3"
  },
  "language_info": {
   "codemirror_mode": {
    "name": "ipython",
    "version": 3
   },
   "file_extension": ".py",
   "mimetype": "text/x-python",
   "name": "python",
   "nbconvert_exporter": "python",
   "pygments_lexer": "ipython3",
   "version": "3.10.12"
  }
 },
 "nbformat": 4,
 "nbformat_minor": 5
}
