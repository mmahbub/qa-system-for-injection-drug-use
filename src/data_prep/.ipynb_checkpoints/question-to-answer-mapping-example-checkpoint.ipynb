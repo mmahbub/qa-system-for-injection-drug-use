{
 "cells": [
  {
   "cell_type": "code",
   "execution_count": 1,
   "id": "8193f3cc-1219-46f7-b844-2af196c14fc0",
   "metadata": {},
   "outputs": [],
   "source": [
    "import json\n",
    "import re\n",
    "import pandas as pd\n",
    "from tqdm import tqdm\n",
    "tqdm.pandas()\n",
    "pd.set_option('max_colwidth', 100)\n",
    "from itertools import chain\n",
    "\n",
    "# load the IDU keywords and questions\n",
    "keywords_dict = json.load(open(\"IDUkeywordsList.json\"))\n",
    "question_dict = json.load(open(\"queryGroups.json\"))\n"
   ]
  },
  {
   "cell_type": "code",
   "execution_count": 7,
   "id": "40623347-f0e7-413a-9fcd-b1fa0bb63d07",
   "metadata": {},
   "outputs": [
    {
     "data": {
      "text/html": [
       "<div>\n",
       "<style scoped>\n",
       "    .dataframe tbody tr th:only-of-type {\n",
       "        vertical-align: middle;\n",
       "    }\n",
       "\n",
       "    .dataframe tbody tr th {\n",
       "        vertical-align: top;\n",
       "    }\n",
       "\n",
       "    .dataframe thead th {\n",
       "        text-align: right;\n",
       "    }\n",
       "</style>\n",
       "<table border=\"1\" class=\"dataframe\">\n",
       "  <thead>\n",
       "    <tr style=\"text-align: right;\">\n",
       "      <th></th>\n",
       "      <th>NOTE_ID</th>\n",
       "      <th>CONTEXT</th>\n",
       "      <th>ANSWER</th>\n",
       "    </tr>\n",
       "  </thead>\n",
       "  <tbody>\n",
       "    <tr>\n",
       "      <th>0</th>\n",
       "      <td>xxxxx</td>\n",
       "      <td>&lt;more info&gt; pt injects iv heroin daily. has a remote history of iv cocaine, last used 10 years a...</td>\n",
       "      <td>pt injects iv heroin daily</td>\n",
       "    </tr>\n",
       "    <tr>\n",
       "      <th>0</th>\n",
       "      <td>xxxxx</td>\n",
       "      <td>&lt;more info&gt; pt injects iv heroin daily. has a remote history of iv cocaine, last used 10 years a...</td>\n",
       "      <td>remote history of iv cocaine, last used 10 years ago</td>\n",
       "    </tr>\n",
       "    <tr>\n",
       "      <th>1</th>\n",
       "      <td>yyyyy</td>\n",
       "      <td>&lt;more info&gt; 65y/o m w cardiac procedures, or recent surgical procedures, admits to drinking alco...</td>\n",
       "      <td>denied ivdu, smokes cannabis</td>\n",
       "    </tr>\n",
       "  </tbody>\n",
       "</table>\n",
       "</div>"
      ],
      "text/plain": [
       "  NOTE_ID  \\\n",
       "0   xxxxx   \n",
       "0   xxxxx   \n",
       "1   yyyyy   \n",
       "\n",
       "                                                                                               CONTEXT  \\\n",
       "0  <more info> pt injects iv heroin daily. has a remote history of iv cocaine, last used 10 years a...   \n",
       "0  <more info> pt injects iv heroin daily. has a remote history of iv cocaine, last used 10 years a...   \n",
       "1  <more info> 65y/o m w cardiac procedures, or recent surgical procedures, admits to drinking alco...   \n",
       "\n",
       "                                                 ANSWER  \n",
       "0                            pt injects iv heroin daily  \n",
       "0  remote history of iv cocaine, last used 10 years ago  \n",
       "1                          denied ivdu, smokes cannabis  "
      ]
     },
     "execution_count": 7,
     "metadata": {},
     "output_type": "execute_result"
    }
   ],
   "source": [
    "# df = <A DATAFRAME WITH CLEANED NOTES, NOTE ID, CORRESPONDING ANSWER LIST>\n",
    "\n",
    "# example\n",
    "dummy_note_list = [\"<more info> pt injects iv heroin daily. has a remote history of iv cocaine, last used 10 years ago. <more info>\",\n",
    "                   \"<more info> 65y/o m w cardiac procedures, or recent surgical procedures, admits to drinking alcohol daily for the past 10 years, denied ivdu, smokes cannabis. <more info>\"]\n",
    "dummy_note_id_list = [\"xxxxx\", \"yyyyy\"]\n",
    "dummy_ans_list = [['pt injects iv heroin daily', 'remote history of iv cocaine, last used 10 years ago'],\n",
    "                  [\"denied ivdu, smokes cannabis\"]]\n",
    "\n",
    "df = pd.DataFrame()\n",
    "df['NOTE_ID'] = dummy_note_id_list\n",
    "df['CONTEXT'] = dummy_note_list\n",
    "df['ANSWER'] = dummy_ans_list\n",
    "df = df.explode('ANSWER')\n",
    "df"
   ]
  },
  {
   "cell_type": "code",
   "execution_count": 8,
   "id": "2a5d883c-cc42-43a8-b75e-41023cb47f2c",
   "metadata": {},
   "outputs": [],
   "source": [
    "queryGroupKeywords_dict = json.load(open('queryGroupKeywords.json'))"
   ]
  },
  {
   "cell_type": "code",
   "execution_count": 9,
   "id": "02c6068e-f1b8-4cd8-bd10-147d3fb8a3a1",
   "metadata": {},
   "outputs": [],
   "source": [
    "# example of question-to-answer mapping\n",
    "\n",
    "def get_question_list(answer):\n",
    "    qList = []\n",
    "    for qgroup in queryGroupKeywords_dict:\n",
    "        if any(k in answer for k in queryGroupKeywords_dict[qgroup]):\n",
    "            qList = qList + question_dict[qgroup]\n",
    "    if qList:\n",
    "        return qList\n",
    "    else:\n",
    "        return queryGroupKeywords_dict['existence of idu']\n"
   ]
  },
  {
   "cell_type": "code",
   "execution_count": 12,
   "id": "310cbe48-c77b-4823-bdb2-22af191c33ba",
   "metadata": {},
   "outputs": [
    {
     "name": "stderr",
     "output_type": "stream",
     "text": [
      "100%|███████████████████████████████████████████████████████████████████████████████████████████████████████████████████████████████████████████████████████████████████████████████████████████████| 475/475 [00:00<00:00, 154921.80it/s]\n"
     ]
    },
    {
     "data": {
      "text/html": [
       "<div>\n",
       "<style scoped>\n",
       "    .dataframe tbody tr th:only-of-type {\n",
       "        vertical-align: middle;\n",
       "    }\n",
       "\n",
       "    .dataframe tbody tr th {\n",
       "        vertical-align: top;\n",
       "    }\n",
       "\n",
       "    .dataframe thead th {\n",
       "        text-align: right;\n",
       "    }\n",
       "</style>\n",
       "<table border=\"1\" class=\"dataframe\">\n",
       "  <thead>\n",
       "    <tr style=\"text-align: right;\">\n",
       "      <th></th>\n",
       "      <th>NOTE_ID</th>\n",
       "      <th>CONTEXT</th>\n",
       "      <th>ANSWER</th>\n",
       "      <th>QUESTION</th>\n",
       "    </tr>\n",
       "  </thead>\n",
       "  <tbody>\n",
       "    <tr>\n",
       "      <th>0</th>\n",
       "      <td>xxxxx</td>\n",
       "      <td>&lt;more info&gt; pt injects iv heroin daily. has a remote history of iv cocaine, last used 10 years a...</td>\n",
       "      <td>remote history of iv cocaine, last used 10 years ago</td>\n",
       "      <td>Is the patient actively using IV drugs?</td>\n",
       "    </tr>\n",
       "    <tr>\n",
       "      <th>0</th>\n",
       "      <td>xxxxx</td>\n",
       "      <td>&lt;more info&gt; pt injects iv heroin daily. has a remote history of iv cocaine, last used 10 years a...</td>\n",
       "      <td>remote history of iv cocaine, last used 10 years ago</td>\n",
       "      <td>Which IV drugs has the pt used?</td>\n",
       "    </tr>\n",
       "    <tr>\n",
       "      <th>0</th>\n",
       "      <td>xxxxx</td>\n",
       "      <td>&lt;more info&gt; pt injects iv heroin daily. has a remote history of iv cocaine, last used 10 years a...</td>\n",
       "      <td>remote history of iv cocaine, last used 10 years ago</td>\n",
       "      <td>Active vs historical IVDU/IDU?</td>\n",
       "    </tr>\n",
       "    <tr>\n",
       "      <th>0</th>\n",
       "      <td>xxxxx</td>\n",
       "      <td>&lt;more info&gt; pt injects iv heroin daily. has a remote history of iv cocaine, last used 10 years a...</td>\n",
       "      <td>remote history of iv cocaine, last used 10 years ago</td>\n",
       "      <td>Is the patient actively using IV drugs?</td>\n",
       "    </tr>\n",
       "    <tr>\n",
       "      <th>0</th>\n",
       "      <td>xxxxx</td>\n",
       "      <td>&lt;more info&gt; pt injects iv heroin daily. has a remote history of iv cocaine, last used 10 years a...</td>\n",
       "      <td>pt injects iv heroin daily</td>\n",
       "      <td>Occasional vs daily IVDU?</td>\n",
       "    </tr>\n",
       "  </tbody>\n",
       "</table>\n",
       "</div>"
      ],
      "text/plain": [
       "  NOTE_ID  \\\n",
       "0   xxxxx   \n",
       "0   xxxxx   \n",
       "0   xxxxx   \n",
       "0   xxxxx   \n",
       "0   xxxxx   \n",
       "\n",
       "                                                                                               CONTEXT  \\\n",
       "0  <more info> pt injects iv heroin daily. has a remote history of iv cocaine, last used 10 years a...   \n",
       "0  <more info> pt injects iv heroin daily. has a remote history of iv cocaine, last used 10 years a...   \n",
       "0  <more info> pt injects iv heroin daily. has a remote history of iv cocaine, last used 10 years a...   \n",
       "0  <more info> pt injects iv heroin daily. has a remote history of iv cocaine, last used 10 years a...   \n",
       "0  <more info> pt injects iv heroin daily. has a remote history of iv cocaine, last used 10 years a...   \n",
       "\n",
       "                                                 ANSWER  \\\n",
       "0  remote history of iv cocaine, last used 10 years ago   \n",
       "0  remote history of iv cocaine, last used 10 years ago   \n",
       "0  remote history of iv cocaine, last used 10 years ago   \n",
       "0  remote history of iv cocaine, last used 10 years ago   \n",
       "0                            pt injects iv heroin daily   \n",
       "\n",
       "                                  QUESTION  \n",
       "0  Is the patient actively using IV drugs?  \n",
       "0          Which IV drugs has the pt used?  \n",
       "0           Active vs historical IVDU/IDU?  \n",
       "0  Is the patient actively using IV drugs?  \n",
       "0                Occasional vs daily IVDU?  "
      ]
     },
     "execution_count": 12,
     "metadata": {},
     "output_type": "execute_result"
    }
   ],
   "source": [
    "df['QUESTION'] = df['ANSWER'].progress_apply(get_question_list)\n",
    "df = df.explode('QUESTION')\n",
    "df.sample(5)"
   ]
  },
  {
   "cell_type": "code",
   "execution_count": null,
   "id": "49e12b1f-fde3-434e-ab12-1af507343ce3",
   "metadata": {},
   "outputs": [],
   "source": []
  }
 ],
 "metadata": {
  "kernelspec": {
   "display_name": "Python 3 (ipykernel)",
   "language": "python",
   "name": "python3"
  },
  "language_info": {
   "codemirror_mode": {
    "name": "ipython",
    "version": 3
   },
   "file_extension": ".py",
   "mimetype": "text/x-python",
   "name": "python",
   "nbconvert_exporter": "python",
   "pygments_lexer": "ipython3",
   "version": "3.10.12"
  }
 },
 "nbformat": 4,
 "nbformat_minor": 5
}
