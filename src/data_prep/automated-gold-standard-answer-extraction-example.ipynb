{
 "cells": [
  {
   "cell_type": "markdown",
   "id": "a94a28de-6cc9-4070-9d23-113808e106e4",
   "metadata": {},
   "source": [
    "### automated gold-standard answer extraction example"
   ]
  },
  {
   "cell_type": "code",
   "execution_count": 1,
   "id": "86dad31e-60cc-482f-a43f-2f1a6d8e9afa",
   "metadata": {},
   "outputs": [],
   "source": [
    "import json\n",
    "import re\n",
    "from itertools import chain\n",
    "\n",
    "# load the IDU keywords\n",
    "keywords_dict = json.load(open(\"IDUkeywordsList.json\"))\n",
    "keywords_list = list(chain.from_iterable(keywords_dict.values()))"
   ]
  },
  {
   "cell_type": "code",
   "execution_count": 14,
   "id": "81e58c9e-d773-4f9b-99df-9719a1489455",
   "metadata": {},
   "outputs": [],
   "source": [
    "# note = <CLEANED CLINICAL NOTE>\n",
    "# note_id = <NOTE ID TO KEEP TRACK>\n",
    "\n",
    "dummy_note = \"<more info> pt injects iv heroin daily. has a remote history of iv cocaine, last used 10 years ago. <more info>\"\n",
    "dummy_note_id = \"xxxxx\"\n",
    "\n",
    "import re\n",
    "\n",
    "def get_sentences_with_kw(note, note_id, kw_list):\n",
    "    \n",
    "    sent_kw = []\n",
    "\n",
    "    sents = note.split('.')\n",
    "\n",
    "    for i, sent in enumerate(sents):\n",
    "        if any(re.search(kw, sent) for kw in kw_list):\n",
    "            sent_kw.append(sent)\n",
    "            \n",
    "    if sent_kw:\n",
    "        return sent_kw\n",
    "    "
   ]
  },
  {
   "cell_type": "code",
   "execution_count": 15,
   "id": "9b195dcf-d89e-4804-8583-43095276b624",
   "metadata": {},
   "outputs": [
    {
     "data": {
      "text/plain": [
       "{'xxxxx': ['<more info> pt injects iv heroin daily',\n",
       "  ' has a remote history of iv cocaine, last used 10 years ago']}"
      ]
     },
     "execution_count": 15,
     "metadata": {},
     "output_type": "execute_result"
    }
   ],
   "source": [
    "keyword_ans_dict = {dummy_note_id: get_sentences_with_kw(dummy_note, dummy_note_id, keywords_list)}\n",
    "keyword_ans_dict"
   ]
  },
  {
   "cell_type": "markdown",
   "id": "d7c31034-ecc1-40e2-97e1-82c7b8b0327f",
   "metadata": {},
   "source": [
    "### example of parsing rules to clean the answers"
   ]
  },
  {
   "cell_type": "code",
   "execution_count": 16,
   "id": "1c98a257-7461-4281-86cf-d21a64e7cb0d",
   "metadata": {},
   "outputs": [],
   "source": [
    "negation_patterns = ['denying', 'denies', 'denied', 'no', 'never']\n",
    "temporal_patterns = ['past medical history','past medical hx','past medical h/o',\n",
    "                      'remote history','remote hx','remote h/o',\n",
    "                      'distant history', 'distant hx','distant h/o',\n",
    "                      'prior history','prior hx','prior h/o',\n",
    "                      'previous history','previous hx','previous h/o',\n",
    "                      'former history','former hx','former h/o',\n",
    "                      'active history', 'active hx','active h/o',\n",
    "                      'current history','current hx','current h/o',\n",
    "                      'recent history','recent hx','recent h/o',\n",
    "                      'last history','last hx', 'last h/o',\n",
    "                      'long history', 'long hx', 'long h/o',\n",
    "                      'daily', 'occasional', 'regularly',\n",
    "                      'often', 'sometimes', 'frequently', \n",
    "                      'past', 'remote', 'distant', 'prior',\n",
    "                      'previous', 'former', 'active', 'current',\n",
    "                      'recent', 'last', 'long', 'intermittent',\n",
    "                      'hpi', 'history', 'hx', 'h/o', 'pmh']\n",
    "add_temp_patterns  = [\"year ago\", \"years ago\", \"yr ago\", \"yrs ago\",\n",
    "                      \"month ago\", \"months ago\", \"mnth ago\", \"mnths ago\", \"mos ago\",\n",
    "                      \"day ago\", \"days ago\", \"d ago\",\n",
    "                      'wk ago','wks ago']\n",
    "trackmark_patterns = ['arm', 'arms', 'abnormal', 'multiple', 'many',\n",
    "                     'several', 'healing', 'healed', 'old', 'diffuse',\n",
    "                     'localized', 'visible', 'red', 'iv', 'fresh', 'dark',\n",
    "                     'needle', 'notable']\n",
    "sud_oud_patterns   = ['substance disorder', 'polysubstance use disorder', \n",
    "                      'substance abuse disorder', 'polysubstance abuse disorder',\n",
    "                      'sud', 'psud', 'oud', 'polysubstance',\n",
    "                      'opioid use disorder', 'opioid', 'opiate']"
   ]
  },
  {
   "cell_type": "code",
   "execution_count": 17,
   "id": "50c2e7d4-dd56-434e-a063-26e8e150bfa9",
   "metadata": {},
   "outputs": [],
   "source": [
    "# dummy answer list\n",
    "dummy_ans_ls = [\"\"\"65y/o m w cardiac procedures, or recent surgical procedures, \\\n",
    "admits to drinking alcohol daily for the past 10 years, denied ivdu, smokes cannabis\"\"\",\n",
    "               \"\"\"pt smokes cannabis, never ivdu\"\"\",\n",
    "               \"\"\"last ivdu was 10 days ago, snorts cocaine occasionally\"\"\"\n",
    "               ]"
   ]
  },
  {
   "cell_type": "code",
   "execution_count": 18,
   "id": "38989d15-f492-437f-a227-f2ae044b8efb",
   "metadata": {},
   "outputs": [
    {
     "data": {
      "text/plain": [
       "{'65y/o m w cardiac procedures, or recent surgical procedures, admits to drinking alcohol daily for the past 10 years, denied ivdu, smokes cannabis': 'denied ivdu, smokes cannabis',\n",
       " 'pt smokes cannabis, never ivdu': 'never ivdu'}"
      ]
     },
     "execution_count": 18,
     "metadata": {},
     "output_type": "execute_result"
    }
   ],
   "source": [
    "ans_dict = {}\n",
    "for a in dummy_ans_ls:\n",
    "    if a not in ans_dict:\n",
    "        for findw in negation_patterns:\n",
    "            match = re.search(findw, a)\n",
    "            if match is not None:\n",
    "                stind = match.start()\n",
    "                if any(k.lower() in a[stind:].lower() for k in keywords_list):\n",
    "                    finalAns = a[stind:]\n",
    "                    if finalAns:\n",
    "                        ans_dict[a] = finalAns\n",
    "\n",
    "ans_dict"
   ]
  },
  {
   "cell_type": "code",
   "execution_count": 19,
   "id": "2071ca62-385f-43e0-94e5-2c22bdff618f",
   "metadata": {},
   "outputs": [
    {
     "data": {
      "text/plain": [
       "{'65y/o m w cardiac procedures, or recent surgical procedures, admits to drinking alcohol daily for the past 10 years, denied ivdu, smokes cannabis': 'denied ivdu, smokes cannabis',\n",
       " 'pt smokes cannabis, never ivdu': 'never ivdu',\n",
       " 'last ivdu was 10 days ago, snorts cocaine occasionally': 'last ivdu was 10 days ago'}"
      ]
     },
     "execution_count": 19,
     "metadata": {},
     "output_type": "execute_result"
    }
   ],
   "source": [
    "for a in dummy_ans_ls:\n",
    "    if a not in ans_dict:\n",
    "        for findw in add_temp_patterns:\n",
    "            match = re.search(findw, a)\n",
    "            if match is not None:\n",
    "                enind = match.start()\n",
    "                if any(k.lower() in a[:enind + len(findw)].lower() for k in keywords_list):\n",
    "                    finalAns = a[:enind + len(findw)]\n",
    "                    if finalAns:\n",
    "                        ans_dict[a] = finalAns\n",
    "ans_dict"
   ]
  },
  {
   "cell_type": "code",
   "execution_count": null,
   "id": "7f67a47c-7db6-4e1b-b2c1-a96047458107",
   "metadata": {},
   "outputs": [],
   "source": []
  }
 ],
 "metadata": {
  "kernelspec": {
   "display_name": "Python 3 (ipykernel)",
   "language": "python",
   "name": "python3"
  },
  "language_info": {
   "codemirror_mode": {
    "name": "ipython",
    "version": 3
   },
   "file_extension": ".py",
   "mimetype": "text/x-python",
   "name": "python",
   "nbconvert_exporter": "python",
   "pygments_lexer": "ipython3",
   "version": "3.10.12"
  }
 },
 "nbformat": 4,
 "nbformat_minor": 5
}
